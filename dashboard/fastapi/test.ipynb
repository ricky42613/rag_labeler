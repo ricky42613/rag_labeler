{
 "cells": [
  {
   "cell_type": "code",
   "execution_count": 1,
   "metadata": {},
   "outputs": [
    {
     "name": "stderr",
     "output_type": "stream",
     "text": [
      "/Users/rickyhsu/miniconda3/envs/rag-label/lib/python3.11/site-packages/tqdm/auto.py:21: TqdmWarning: IProgress not found. Please update jupyter and ipywidgets. See https://ipywidgets.readthedocs.io/en/stable/user_install.html\n",
      "  from .autonotebook import tqdm as notebook_tqdm\n"
     ]
    }
   ],
   "source": [
    "from mlx_utils import build_model, mlx_encode"
   ]
  },
  {
   "cell_type": "code",
   "execution_count": 2,
   "metadata": {},
   "outputs": [],
   "source": [
    "model, tokenizer = build_model('model_cfg.json', weight_path='mlx_bert.npz')\n",
    "texts = ['今天天氣如何']\n",
    "seq_embed, pooled_embed, attn_mask = mlx_encode(texts[0], tokenizer, model)"
   ]
  },
  {
   "cell_type": "code",
   "execution_count": 3,
   "metadata": {},
   "outputs": [],
   "source": [
    "from transformers import AutoModel, AutoTokenizer\n",
    "import torch.nn.functional as F\n",
    "from torch import Tensor\n",
    "def average_pool(last_hidden_states: Tensor,\n",
    "    attention_mask: Tensor) -> Tensor:\n",
    "    last_hidden = last_hidden_states.masked_fill(~attention_mask[..., None].bool(), 0.0)\n",
    "    return last_hidden.sum(dim=1) / attention_mask.sum(dim=1)[..., None]\n",
    "model_name = 'intfloat/multilingual-e5-small'\n",
    "max_length = 512\n",
    "tokenizer = AutoTokenizer.from_pretrained(model_name)\n",
    "model = AutoModel.from_pretrained(model_name).to('cpu')\n",
    "model.eval()\n",
    "batch_dict = tokenizer([texts[0]], max_length=512, padding=True, truncation=True, return_tensors='pt')\n",
    "outputs = model(**batch_dict)\n",
    "# print('outputs')\n",
    "embeddings = average_pool(outputs.last_hidden_state, batch_dict['attention_mask'])\n",
    "embeddings = F.normalize(embeddings, p=2, dim=1).tolist()"
   ]
  },
  {
   "cell_type": "code",
   "execution_count": 19,
   "metadata": {},
   "outputs": [],
   "source": [
    "import torch\n",
    "mlx_embed = torch.tensor(seq_embed)\n",
    "mlx_embed = average_pool(mlx_embed, torch.tensor(attn_mask))\n",
    "mlx_embed = F.normalize(mlx_embed, p=2, dim=1).tolist()"
   ]
  },
  {
   "cell_type": "code",
   "execution_count": 23,
   "metadata": {},
   "outputs": [
    {
     "data": {
      "text/plain": [
       "tensor([[1.0000, 1.0000],\n",
       "        [1.0000, 1.0000]])"
      ]
     },
     "execution_count": 23,
     "metadata": {},
     "output_type": "execute_result"
    }
   ],
   "source": [
    "from sentence_transformers import util\n",
    "tmp = [mlx_embed[0], embeddings[0]]\n",
    "util.cos_sim(tmp, tmp)"
   ]
  }
 ],
 "metadata": {
  "kernelspec": {
   "display_name": "rag-label",
   "language": "python",
   "name": "python3"
  },
  "language_info": {
   "codemirror_mode": {
    "name": "ipython",
    "version": 3
   },
   "file_extension": ".py",
   "mimetype": "text/x-python",
   "name": "python",
   "nbconvert_exporter": "python",
   "pygments_lexer": "ipython3",
   "version": "3.11.7"
  }
 },
 "nbformat": 4,
 "nbformat_minor": 2
}
